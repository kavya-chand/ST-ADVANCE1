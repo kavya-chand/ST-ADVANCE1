{
  "nbformat": 4,
  "nbformat_minor": 0,
  "metadata": {
    "colab": {
      "provenance": []
    },
    "kernelspec": {
      "name": "python3",
      "display_name": "Python 3"
    },
    "language_info": {
      "name": "python"
    }
  },
  "cells": [
    {
      "cell_type": "markdown",
      "source": [
        "1.What is a random variable in probability theory?\n",
        "\n",
        "In probability theory, a random variable is a function that maps the outcomes of a random experiment to a set of real numbers"
      ],
      "metadata": {
        "id": "JNPCqSe6iEZY"
      }
    },
    {
      "cell_type": "markdown",
      "source": [
        "2.What are the types of random variables?\n",
        "\n",
        "There are two main types of random variables: discrete and continuous. Discrete variables can only take on a countable number of distinct values, while continuous variables can take on any value within a given range."
      ],
      "metadata": {
        "id": "e5WANHqBiN_N"
      }
    },
    {
      "cell_type": "markdown",
      "source": [
        "3.  What is the difference between discrete and continuous distributions?\n",
        "\n",
        " discrete distributions have a finite or countable number of values, while continuous distributions can take any value within a given range."
      ],
      "metadata": {
        "id": "gHQ_vg4uiWyu"
      }
    },
    {
      "cell_type": "markdown",
      "source": [
        "4.What are probability distribution functions (PDF)?\n",
        "\n",
        "Probability distribution is a function that is used to give the probability of all the possible values that a random variable can take."
      ],
      "metadata": {
        "id": "sycRS4yFijA1"
      }
    },
    {
      "cell_type": "markdown",
      "source": [
        "5.? How do cumulative distribution functions (CDF) differ from probability distribution functions (PDF)\n",
        "\n",
        "The key difference between a Cumulative Distribution Function (CDF) and a Probability Distribution Function (PDF) is that a CDF provides the probability of a random variable being less than or equal to a specific value, while a PDF describes the probability density at a specific point or within a range of values.\n"
      ],
      "metadata": {
        "id": "8X2I4OdCishg"
      }
    },
    {
      "cell_type": "markdown",
      "source": [
        "6 What is a discrete uniform distribution?\n",
        "\n",
        "A discrete uniform distribution is a probability distribution where each of a finite number of outcomes has an equal probability of occurring, like rolling a fair die."
      ],
      "metadata": {
        "id": "aIwKHr0Ri42i"
      }
    },
    {
      "cell_type": "markdown",
      "source": [
        "7.? What are the key properties of a Bernoulli distribution?\n",
        "\n",
        "A Bernoulli distribution is a discrete probability distribution describing a random variable with only two possible outcomes, typically labeled \"success\" (1) or \"failure\" (0), with a probability of success 'p' and failure '1-p'.\n",
        "\n",
        "\n",
        "8. What is the binomial distribution, and how is it used in probability\n",
        "\n",
        "The binomial distribution is a discrete probability distribution that models the probability of a certain number of successes in a fixed number of independent trials, each with the same probability of success\n",
        "\n",
        "9. What is the Poisson distribution and where is it applied?\n",
        "\n",
        "The Poisson distribution is a discrete probability distribution that models the probability of a certain number of events occurring within a fixed interval of time or space, given the average rate of those events.\n",
        "\n",
        "10. What is a continuous uniform distribution?\n",
        "\n",
        "A continuous uniform distribution, also known as a rectangular distribution, is a probability distribution where all values within a specified range have an equal probability of occurring."
      ],
      "metadata": {
        "id": "qJKHevHXjEQe"
      }
    },
    {
      "cell_type": "markdown",
      "source": [
        "11. What are the characteristics of a normal distribution?\n",
        "\n",
        "A normal distribution, also known as a Gaussian distribution, is a symmetrical, bell-shaped probability distribution characterized by the mean, median, and mode being equal, and its shape determined by the mean and standard deviation."
      ],
      "metadata": {
        "id": "3AASlK6OjwU4"
      }
    },
    {
      "cell_type": "markdown",
      "source": [
        "12. What is the standard normal distribution, and why is it important\n",
        "\n",
        " crucial for statistical analysis because it allows for easy comparison of different datasets and probability calculations."
      ],
      "metadata": {
        "id": "qLWk1_OQj9zq"
      }
    },
    {
      "cell_type": "markdown",
      "source": [
        "13.What is the Central Limit Theorem (CLT), and why is it critical in statistics\n",
        "\n",
        " it allows us to use the normal distribution for statistical inferences, even when the population isn't normally distributed.\n",
        "The CLT essentially says that if you take many random samples from any population (regardless of its original shape), and calculate the mean of each sample, the distribution of those sample means will tend towards a normal (bell-shaped) distribution, especially as the sample size gets larger.\n"
      ],
      "metadata": {
        "id": "4PQQrr1kkFdC"
      }
    },
    {
      "cell_type": "markdown",
      "source": [
        "14.? How does the Central Limit Theorem relate to the normal distribution1\n",
        "\n",
        "The Central Limit Theorem (CLT) states that the distribution of sample means approaches a normal distribution as the sample size increases, regardless of the original population distribution."
      ],
      "metadata": {
        "id": "zJCkDKUXkvGN"
      }
    },
    {
      "cell_type": "markdown",
      "source": [
        "15.What is the application of Z statistics in hypothesis testing\n",
        "\n",
        "In hypothesis testing, Z-statistics, or z-tests, are used to determine if a sample mean significantly differs from a population mean (one-sample z-test) or if two sample means are significantly different (two-sample z-test), when the population standard deviation is known or the sample size is large."
      ],
      "metadata": {
        "id": "uYO-L33xk4Jo"
      }
    },
    {
      "cell_type": "markdown",
      "source": [
        "16.? How do you calculate a Z-score, and what does it represent\n",
        "\n",
        "A z-score, calculated as (data point - mean) / standard deviation, indicates how many standard deviations a data point is away from the mean, with positive values signifying above the mean and negative values below."
      ],
      "metadata": {
        "id": "shEMXTq7lAfd"
      }
    },
    {
      "cell_type": "markdown",
      "source": [
        "17.? What are point estimates and interval estimates in statistics?\n",
        "\n",
        "In statistics, a point estimate is a single value used to estimate an unknown population parameter, while an interval estimate provides a range of values within which the population parameter is likely to fall."
      ],
      "metadata": {
        "id": "LHn9d_eClJun"
      }
    },
    {
      "cell_type": "markdown",
      "source": [
        "18.What is the significance of confidence intervals in statistical analysis?\n",
        "\n",
        "provide a range of plausible values for an unknown population parameter, offering a more informative and nuanced understanding of the data than a single point estimate alone, and helping to quantify uncertainty and make more reliable inferences."
      ],
      "metadata": {
        "id": "IL0XaQZxwYiI"
      }
    },
    {
      "cell_type": "markdown",
      "source": [
        "19.What is the relationship between a Z-score and a confidence interval?\n",
        "\n",
        "A Z-score, which represents the number of standard deviations a data point is from the mean, is directly related to the width of a confidence interval, with higher confidence levels requiring wider intervals and thus larger Z-scores."
      ],
      "metadata": {
        "id": "8ljoy-kzwn0g"
      }
    },
    {
      "cell_type": "markdown",
      "source": [
        "20. How are Z-scores used to compare different distributions?\n",
        "\n",
        "Z-scores, by standardizing data, allow for meaningful comparisons between different distributions, even those with varying means and standard deviations, by expressing each data point's position relative to its distribution's mean in terms of standard deviations."
      ],
      "metadata": {
        "id": "Em_hZL95w2a8"
      }
    },
    {
      "cell_type": "markdown",
      "source": [
        "21. What are the assumptions for applying the Central Limit Theorem.\n",
        "\n",
        "To apply the Central Limit Theorem (CLT), you need to assume that the data is sampled randomly, the samples are independent, and the sample size is sufficiently large"
      ],
      "metadata": {
        "id": "QVmskeauyJWY"
      }
    },
    {
      "cell_type": "markdown",
      "source": [
        "22.What is the concept of expected value in a probability distribution?\n",
        "\n",
        "In a probability distribution, the expected value, often denoted as E(X) or μ, represents the weighted average of all possible outcomes, where each outcome is weighted by its probability of occurrence."
      ],
      "metadata": {
        "id": "sfolaRXpycNe"
      }
    },
    {
      "cell_type": "markdown",
      "source": [
        "23.? How does a probability distribution relate to the expected outcome of a random variable?\n",
        "\n",
        "A probability distribution describes the likelihood of different outcomes for a random variable, and the expected outcome is calculated by weighting each possible value by its probability and summing these products."
      ],
      "metadata": {
        "id": "5q07RgV4ymd_"
      }
    }
  ]
}